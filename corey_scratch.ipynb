{
 "cells": [
  {
   "cell_type": "code",
   "execution_count": 1,
   "metadata": {},
   "outputs": [],
   "source": [
    "from string import digits\n",
    "import acquire\n",
    "import prepare\n",
    "import requests\n",
    "from requests import get\n",
    "from bs4 import BeautifulSoup\n",
    "import os\n",
    "import pandas as pd\n",
    "\n",
    "import re\n",
    "import unicodedata\n",
    "import nltk\n",
    "\n",
    "from nltk.tokenize.toktok import ToktokTokenizer\n",
    "from nltk.corpus import stopwords\n",
    "from wordcloud import WordCloud\n",
    "\n",
    "\n",
    "%matplotlib inline\n",
    "import matplotlib.pyplot as plt\n",
    "import seaborn as sns\n",
    "\n",
    "plt.rc('figure', figsize=(8, 10))"
   ]
  },
  {
   "cell_type": "markdown",
   "metadata": {},
   "source": [
    "#### Notes on Prepare/ Acquire: Create the URL's\n",
    "\n",
    "- Focused on URL's that were identified as JavaScript or Python\n",
    "- Opened up searh URL on GitHub, added URLs that fit discription untill 105 were sampled\n",
    "- Ended on search page 39"
   ]
  },
  {
   "cell_type": "markdown",
   "metadata": {},
   "source": [
    "## Acquire/Prepare:"
   ]
  },
  {
   "cell_type": "code",
   "execution_count": 2,
   "metadata": {},
   "outputs": [
    {
     "data": {
      "text/plain": [
       "((63, 2), (21, 2), (21, 2))"
      ]
     },
     "execution_count": 2,
     "metadata": {},
     "output_type": "execute_result"
    }
   ],
   "source": [
    "urls = acquire.get_urls()\n",
    "df = acquire.get_readme_articles(urls=urls, cached=True)\n",
    "df = prepare.clean_data(df)\n",
    "train, validate, test = prepare.train_validate_test(df)\n",
    "train.shape, validate.shape, test.shape"
   ]
  },
  {
   "cell_type": "code",
   "execution_count": 3,
   "metadata": {},
   "outputs": [
    {
     "name": "stdout",
     "output_type": "stream",
     "text": [
      "javascript     34\n",
      "python         29\n",
      "Name: language, dtype: int64\n",
      "javascript     12\n",
      "python          9\n",
      "Name: language, dtype: int64\n",
      "javascript     12\n",
      "python          9\n",
      "Name: language, dtype: int64\n"
     ]
    },
    {
     "data": {
      "text/html": [
       "<div>\n",
       "<style scoped>\n",
       "    .dataframe tbody tr th:only-of-type {\n",
       "        vertical-align: middle;\n",
       "    }\n",
       "\n",
       "    .dataframe tbody tr th {\n",
       "        vertical-align: top;\n",
       "    }\n",
       "\n",
       "    .dataframe thead th {\n",
       "        text-align: right;\n",
       "    }\n",
       "</style>\n",
       "<table border=\"1\" class=\"dataframe\">\n",
       "  <thead>\n",
       "    <tr style=\"text-align: right;\">\n",
       "      <th></th>\n",
       "      <th>language</th>\n",
       "      <th>text_filtered</th>\n",
       "    </tr>\n",
       "  </thead>\n",
       "  <tbody>\n",
       "    <tr>\n",
       "      <th>16</th>\n",
       "      <td>javascript</td>\n",
       "      <td>main repository discussion coordination code l...</td>\n",
       "    </tr>\n",
       "    <tr>\n",
       "      <th>46</th>\n",
       "      <td>javascript</td>\n",
       "      <td>browserpass important repository archived main...</td>\n",
       "    </tr>\n",
       "    <tr>\n",
       "      <th>71</th>\n",
       "      <td>python</td>\n",
       "      <td>gitup gitrepoupdater gitup tool updating multi...</td>\n",
       "    </tr>\n",
       "    <tr>\n",
       "      <th>21</th>\n",
       "      <td>javascript</td>\n",
       "      <td>celebration 1k star repo starhistory chrome ex...</td>\n",
       "    </tr>\n",
       "    <tr>\n",
       "      <th>30</th>\n",
       "      <td>python</td>\n",
       "      <td>meilix beautiful customizable linux build box ...</td>\n",
       "    </tr>\n",
       "  </tbody>\n",
       "</table>\n",
       "</div>"
      ],
      "text/plain": [
       "       language                                      text_filtered\n",
       "16  javascript   main repository discussion coordination code l...\n",
       "46  javascript   browserpass important repository archived main...\n",
       "71      python   gitup gitrepoupdater gitup tool updating multi...\n",
       "21  javascript   celebration 1k star repo starhistory chrome ex...\n",
       "30      python   meilix beautiful customizable linux build box ..."
      ]
     },
     "execution_count": 3,
     "metadata": {},
     "output_type": "execute_result"
    }
   ],
   "source": [
    "# Lets see what we are playing with\n",
    "print(train.language.value_counts())\n",
    "print(validate.language.value_counts())\n",
    "print(test.language.value_counts())\n",
    "train.head()"
   ]
  },
  {
   "cell_type": "markdown",
   "metadata": {},
   "source": [
    "## Explore:"
   ]
  },
  {
   "cell_type": "code",
   "execution_count": 4,
   "metadata": {},
   "outputs": [
    {
     "data": {
      "text/html": [
       "<div>\n",
       "<style scoped>\n",
       "    .dataframe tbody tr th:only-of-type {\n",
       "        vertical-align: middle;\n",
       "    }\n",
       "\n",
       "    .dataframe tbody tr th {\n",
       "        vertical-align: top;\n",
       "    }\n",
       "\n",
       "    .dataframe thead th {\n",
       "        text-align: right;\n",
       "    }\n",
       "</style>\n",
       "<table border=\"1\" class=\"dataframe\">\n",
       "  <thead>\n",
       "    <tr style=\"text-align: right;\">\n",
       "      <th></th>\n",
       "      <th>title</th>\n",
       "      <th>content</th>\n",
       "      <th>language</th>\n",
       "      <th>text_cleaned</th>\n",
       "      <th>text_tokenized</th>\n",
       "      <th>text_lemmatized</th>\n",
       "      <th>text_filtered</th>\n",
       "      <th>words</th>\n",
       "      <th>doc_length</th>\n",
       "    </tr>\n",
       "  </thead>\n",
       "  <tbody>\n",
       "    <tr>\n",
       "      <th>0</th>\n",
       "      <td>freecodecamp freecodecamp</td>\n",
       "      <td>\\n\\n\\n\\n\\nfreeCodeCamp.org's open-source codeb...</td>\n",
       "      <td>javascript</td>\n",
       "      <td>\\n\\n\\n\\n\\nfreecodecamporgs opensource codebase...</td>\n",
       "      <td>freecodecamporgs opensource codebase and curri...</td>\n",
       "      <td>freecodecamporgs opensource codebase and curri...</td>\n",
       "      <td>freecodecamporgs opensource codebase curriculu...</td>\n",
       "      <td>[freecodecamporgs, opensource, codebase, curri...</td>\n",
       "      <td>707</td>\n",
       "    </tr>\n",
       "    <tr>\n",
       "      <th>1</th>\n",
       "      <td>famous famous</td>\n",
       "      <td>#THIS REPO IS DEPRECATED\\n##Mixed Mode can be ...</td>\n",
       "      <td>javascript</td>\n",
       "      <td>this repo is deprecated\\nmixed mode can be fou...</td>\n",
       "      <td>this repo is deprecated\\nmixed mode can be fou...</td>\n",
       "      <td>this repo is deprecated mixed mode can be foun...</td>\n",
       "      <td>repo deprecated mixed mode found httpsgithubco...</td>\n",
       "      <td>[repo, deprecated, mixed, mode, found, httpsgi...</td>\n",
       "      <td>30</td>\n",
       "    </tr>\n",
       "    <tr>\n",
       "      <th>2</th>\n",
       "      <td>vuejs vue</td>\n",
       "      <td>\\n\\n\\n\\n\\n\\n\\n\\n\\n\\n\\nSupporting Vue.js\\nVue.j...</td>\n",
       "      <td>javascript</td>\n",
       "      <td>\\n\\n\\n\\n\\n\\n\\n\\n\\n\\n\\nsupporting vuejs\\nvuejs ...</td>\n",
       "      <td>supporting vuejs\\nvuejs is an mitlicensed open...</td>\n",
       "      <td>supporting vuejs vuejs is an mitlicensed open ...</td>\n",
       "      <td>supporting vuejs vuejs mitlicensed open source...</td>\n",
       "      <td>[supporting, vuejs, vuejs, mitlicensed, open, ...</td>\n",
       "      <td>256</td>\n",
       "    </tr>\n",
       "    <tr>\n",
       "      <th>3</th>\n",
       "      <td>kevana uifordocker</td>\n",
       "      <td>UI For Docker\\n\\nThis repo is deprecated. Deve...</td>\n",
       "      <td>javascript</td>\n",
       "      <td>ui for docker\\n\\nthis repo is deprecated devel...</td>\n",
       "      <td>ui for docker\\n\\nthis repo is deprecated devel...</td>\n",
       "      <td>ui for docker this repo is deprecated developm...</td>\n",
       "      <td>ui docker repo deprecated development continue...</td>\n",
       "      <td>[ui, docker, repo, deprecated, development, co...</td>\n",
       "      <td>337</td>\n",
       "    </tr>\n",
       "    <tr>\n",
       "      <th>4</th>\n",
       "      <td>facebook react</td>\n",
       "      <td>React ·    \\nReact is a JavaScript library for...</td>\n",
       "      <td>javascript</td>\n",
       "      <td>react     \\nreact is a javascript library for ...</td>\n",
       "      <td>react \\nreact is a javascript library for buil...</td>\n",
       "      <td>react react is a javascript library for buildi...</td>\n",
       "      <td>react react javascript library building user i...</td>\n",
       "      <td>[react, react, javascript, library, building, ...</td>\n",
       "      <td>314</td>\n",
       "    </tr>\n",
       "  </tbody>\n",
       "</table>\n",
       "</div>"
      ],
      "text/plain": [
       "                       title  \\\n",
       "0  freecodecamp freecodecamp   \n",
       "1              famous famous   \n",
       "2                  vuejs vue   \n",
       "3         kevana uifordocker   \n",
       "4             facebook react   \n",
       "\n",
       "                                             content     language  \\\n",
       "0  \\n\\n\\n\\n\\nfreeCodeCamp.org's open-source codeb...  javascript    \n",
       "1  #THIS REPO IS DEPRECATED\\n##Mixed Mode can be ...  javascript    \n",
       "2  \\n\\n\\n\\n\\n\\n\\n\\n\\n\\n\\nSupporting Vue.js\\nVue.j...  javascript    \n",
       "3  UI For Docker\\n\\nThis repo is deprecated. Deve...  javascript    \n",
       "4  React ·    \\nReact is a JavaScript library for...  javascript    \n",
       "\n",
       "                                        text_cleaned  \\\n",
       "0  \\n\\n\\n\\n\\nfreecodecamporgs opensource codebase...   \n",
       "1  this repo is deprecated\\nmixed mode can be fou...   \n",
       "2  \\n\\n\\n\\n\\n\\n\\n\\n\\n\\n\\nsupporting vuejs\\nvuejs ...   \n",
       "3  ui for docker\\n\\nthis repo is deprecated devel...   \n",
       "4  react     \\nreact is a javascript library for ...   \n",
       "\n",
       "                                      text_tokenized  \\\n",
       "0  freecodecamporgs opensource codebase and curri...   \n",
       "1  this repo is deprecated\\nmixed mode can be fou...   \n",
       "2  supporting vuejs\\nvuejs is an mitlicensed open...   \n",
       "3  ui for docker\\n\\nthis repo is deprecated devel...   \n",
       "4  react \\nreact is a javascript library for buil...   \n",
       "\n",
       "                                     text_lemmatized  \\\n",
       "0  freecodecamporgs opensource codebase and curri...   \n",
       "1  this repo is deprecated mixed mode can be foun...   \n",
       "2  supporting vuejs vuejs is an mitlicensed open ...   \n",
       "3  ui for docker this repo is deprecated developm...   \n",
       "4  react react is a javascript library for buildi...   \n",
       "\n",
       "                                       text_filtered  \\\n",
       "0  freecodecamporgs opensource codebase curriculu...   \n",
       "1  repo deprecated mixed mode found httpsgithubco...   \n",
       "2  supporting vuejs vuejs mitlicensed open source...   \n",
       "3  ui docker repo deprecated development continue...   \n",
       "4  react react javascript library building user i...   \n",
       "\n",
       "                                               words  doc_length  \n",
       "0  [freecodecamporgs, opensource, codebase, curri...         707  \n",
       "1  [repo, deprecated, mixed, mode, found, httpsgi...          30  \n",
       "2  [supporting, vuejs, vuejs, mitlicensed, open, ...         256  \n",
       "3  [ui, docker, repo, deprecated, development, co...         337  \n",
       "4  [react, react, javascript, library, building, ...         314  "
      ]
     },
     "execution_count": 4,
     "metadata": {},
     "output_type": "execute_result"
    }
   ],
   "source": [
    "\n",
    "df.head()"
   ]
  },
  {
   "cell_type": "code",
   "execution_count": null,
   "metadata": {},
   "outputs": [],
   "source": []
  },
  {
   "cell_type": "code",
   "execution_count": null,
   "metadata": {},
   "outputs": [],
   "source": []
  },
  {
   "cell_type": "code",
   "execution_count": null,
   "metadata": {},
   "outputs": [],
   "source": []
  },
  {
   "cell_type": "code",
   "execution_count": null,
   "metadata": {},
   "outputs": [],
   "source": []
  }
 ],
 "metadata": {
  "kernelspec": {
   "display_name": "Python 3",
   "language": "python",
   "name": "python3"
  },
  "language_info": {
   "codemirror_mode": {
    "name": "ipython",
    "version": 3
   },
   "file_extension": ".py",
   "mimetype": "text/x-python",
   "name": "python",
   "nbconvert_exporter": "python",
   "pygments_lexer": "ipython3",
   "version": "3.8.5"
  }
 },
 "nbformat": 4,
 "nbformat_minor": 4
}
