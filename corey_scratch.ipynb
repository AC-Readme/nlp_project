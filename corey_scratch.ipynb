{
 "cells": [
  {
   "cell_type": "code",
   "execution_count": 1,
   "metadata": {},
   "outputs": [],
   "source": [
    "from string import digits\n",
    "import acquire\n",
    "import prepare\n",
    "import requests\n",
    "from requests import get\n",
    "from bs4 import BeautifulSoup\n",
    "import os\n",
    "import pandas as pd\n",
    "\n",
    "import re\n",
    "import unicodedata\n",
    "import nltk\n",
    "\n",
    "from nltk.tokenize.toktok import ToktokTokenizer\n",
    "from nltk.corpus import stopwords\n",
    "from wordcloud import WordCloud\n",
    "\n",
    "\n",
    "%matplotlib inline\n",
    "import matplotlib.pyplot as plt\n",
    "import seaborn as sns"
   ]
  },
  {
   "cell_type": "markdown",
   "metadata": {},
   "source": [
    "#### Notes on Prepare/ Acquire: Create the URL's\n",
    "\n",
    "- Focused on URL's that were identified as JavaScript or Python\n",
    "- Opened up searh URL on GitHub, added URLs that fit discription untill 105 were sampled\n",
    "- Ended on search page 39"
   ]
  },
  {
   "cell_type": "markdown",
   "metadata": {},
   "source": [
    "## Ready to Go:"
   ]
  },
  {
   "cell_type": "code",
   "execution_count": 2,
   "metadata": {},
   "outputs": [
    {
     "data": {
      "text/html": [
       "<div>\n",
       "<style scoped>\n",
       "    .dataframe tbody tr th:only-of-type {\n",
       "        vertical-align: middle;\n",
       "    }\n",
       "\n",
       "    .dataframe tbody tr th {\n",
       "        vertical-align: top;\n",
       "    }\n",
       "\n",
       "    .dataframe thead th {\n",
       "        text-align: right;\n",
       "    }\n",
       "</style>\n",
       "<table border=\"1\" class=\"dataframe\">\n",
       "  <thead>\n",
       "    <tr style=\"text-align: right;\">\n",
       "      <th></th>\n",
       "      <th>title</th>\n",
       "      <th>content</th>\n",
       "      <th>language</th>\n",
       "      <th>text_cleaned</th>\n",
       "      <th>text_tokenized</th>\n",
       "      <th>text_lemmatized</th>\n",
       "      <th>text_filtered</th>\n",
       "      <th>words</th>\n",
       "      <th>doc_length</th>\n",
       "    </tr>\n",
       "  </thead>\n",
       "  <tbody>\n",
       "    <tr>\n",
       "      <th>0</th>\n",
       "      <td>freecodecamp freecodecamp</td>\n",
       "      <td>\\n\\n\\n\\n\\nfreeCodeCamp.org's open-source codeb...</td>\n",
       "      <td>javascript</td>\n",
       "      <td>\\n\\n\\n\\n\\nfreecodecamporgs opensource codebase...</td>\n",
       "      <td>freecodecamporgs opensource codebase and curri...</td>\n",
       "      <td>freecodecamporgs opensource codebase and curri...</td>\n",
       "      <td>freecodecamporgs opensource codebase curriculu...</td>\n",
       "      <td>[freecodecamporgs, opensource, codebase, curri...</td>\n",
       "      <td>707</td>\n",
       "    </tr>\n",
       "    <tr>\n",
       "      <th>1</th>\n",
       "      <td>famous famous</td>\n",
       "      <td>#THIS REPO IS DEPRECATED\\n##Mixed Mode can be ...</td>\n",
       "      <td>javascript</td>\n",
       "      <td>this repo is deprecated\\nmixed mode can be fou...</td>\n",
       "      <td>this repo is deprecated\\nmixed mode can be fou...</td>\n",
       "      <td>this repo is deprecated mixed mode can be foun...</td>\n",
       "      <td>repo deprecated mixed mode found httpsgithubco...</td>\n",
       "      <td>[repo, deprecated, mixed, mode, found, httpsgi...</td>\n",
       "      <td>30</td>\n",
       "    </tr>\n",
       "    <tr>\n",
       "      <th>2</th>\n",
       "      <td>vuejs vue</td>\n",
       "      <td>\\n\\n\\n\\n\\n\\n\\n\\n\\n\\n\\nSupporting Vue.js\\nVue.j...</td>\n",
       "      <td>javascript</td>\n",
       "      <td>\\n\\n\\n\\n\\n\\n\\n\\n\\n\\n\\nsupporting vuejs\\nvuejs ...</td>\n",
       "      <td>supporting vuejs\\nvuejs is an mitlicensed open...</td>\n",
       "      <td>supporting vuejs vuejs is an mitlicensed open ...</td>\n",
       "      <td>supporting vuejs vuejs mitlicensed open source...</td>\n",
       "      <td>[supporting, vuejs, vuejs, mitlicensed, open, ...</td>\n",
       "      <td>256</td>\n",
       "    </tr>\n",
       "    <tr>\n",
       "      <th>3</th>\n",
       "      <td>kevana uifordocker</td>\n",
       "      <td>UI For Docker\\n\\nThis repo is deprecated. Deve...</td>\n",
       "      <td>javascript</td>\n",
       "      <td>ui for docker\\n\\nthis repo is deprecated devel...</td>\n",
       "      <td>ui for docker\\n\\nthis repo is deprecated devel...</td>\n",
       "      <td>ui for docker this repo is deprecated developm...</td>\n",
       "      <td>ui docker repo deprecated development continue...</td>\n",
       "      <td>[ui, docker, repo, deprecated, development, co...</td>\n",
       "      <td>337</td>\n",
       "    </tr>\n",
       "    <tr>\n",
       "      <th>4</th>\n",
       "      <td>facebook react</td>\n",
       "      <td>React ·    \\nReact is a JavaScript library for...</td>\n",
       "      <td>javascript</td>\n",
       "      <td>react     \\nreact is a javascript library for ...</td>\n",
       "      <td>react \\nreact is a javascript library for buil...</td>\n",
       "      <td>react react is a javascript library for buildi...</td>\n",
       "      <td>react react javascript library building user i...</td>\n",
       "      <td>[react, react, javascript, library, building, ...</td>\n",
       "      <td>314</td>\n",
       "    </tr>\n",
       "  </tbody>\n",
       "</table>\n",
       "</div>"
      ],
      "text/plain": [
       "                       title  \\\n",
       "0  freecodecamp freecodecamp   \n",
       "1              famous famous   \n",
       "2                  vuejs vue   \n",
       "3         kevana uifordocker   \n",
       "4             facebook react   \n",
       "\n",
       "                                             content     language  \\\n",
       "0  \\n\\n\\n\\n\\nfreeCodeCamp.org's open-source codeb...  javascript    \n",
       "1  #THIS REPO IS DEPRECATED\\n##Mixed Mode can be ...  javascript    \n",
       "2  \\n\\n\\n\\n\\n\\n\\n\\n\\n\\n\\nSupporting Vue.js\\nVue.j...  javascript    \n",
       "3  UI For Docker\\n\\nThis repo is deprecated. Deve...  javascript    \n",
       "4  React ·    \\nReact is a JavaScript library for...  javascript    \n",
       "\n",
       "                                        text_cleaned  \\\n",
       "0  \\n\\n\\n\\n\\nfreecodecamporgs opensource codebase...   \n",
       "1  this repo is deprecated\\nmixed mode can be fou...   \n",
       "2  \\n\\n\\n\\n\\n\\n\\n\\n\\n\\n\\nsupporting vuejs\\nvuejs ...   \n",
       "3  ui for docker\\n\\nthis repo is deprecated devel...   \n",
       "4  react     \\nreact is a javascript library for ...   \n",
       "\n",
       "                                      text_tokenized  \\\n",
       "0  freecodecamporgs opensource codebase and curri...   \n",
       "1  this repo is deprecated\\nmixed mode can be fou...   \n",
       "2  supporting vuejs\\nvuejs is an mitlicensed open...   \n",
       "3  ui for docker\\n\\nthis repo is deprecated devel...   \n",
       "4  react \\nreact is a javascript library for buil...   \n",
       "\n",
       "                                     text_lemmatized  \\\n",
       "0  freecodecamporgs opensource codebase and curri...   \n",
       "1  this repo is deprecated mixed mode can be foun...   \n",
       "2  supporting vuejs vuejs is an mitlicensed open ...   \n",
       "3  ui for docker this repo is deprecated developm...   \n",
       "4  react react is a javascript library for buildi...   \n",
       "\n",
       "                                       text_filtered  \\\n",
       "0  freecodecamporgs opensource codebase curriculu...   \n",
       "1  repo deprecated mixed mode found httpsgithubco...   \n",
       "2  supporting vuejs vuejs mitlicensed open source...   \n",
       "3  ui docker repo deprecated development continue...   \n",
       "4  react react javascript library building user i...   \n",
       "\n",
       "                                               words  doc_length  \n",
       "0  [freecodecamporgs, opensource, codebase, curri...         707  \n",
       "1  [repo, deprecated, mixed, mode, found, httpsgi...          30  \n",
       "2  [supporting, vuejs, vuejs, mitlicensed, open, ...         256  \n",
       "3  [ui, docker, repo, deprecated, development, co...         337  \n",
       "4  [react, react, javascript, library, building, ...         314  "
      ]
     },
     "execution_count": 2,
     "metadata": {},
     "output_type": "execute_result"
    }
   ],
   "source": [
    "urls = acquire.get_urls()\n",
    "df = acquire.get_readme_articles(urls=urls, cached=True)\n",
    "df = prepare.clean_data(df)\n",
    "df.head()"
   ]
  },
  {
   "cell_type": "code",
   "execution_count": 24,
   "metadata": {},
   "outputs": [
    {
     "name": "stdout",
     "output_type": "stream",
     "text": [
      "<class 'pandas.core.frame.DataFrame'>\n",
      "Int64Index: 105 entries, 0 to 104\n",
      "Data columns (total 9 columns):\n",
      " #   Column           Non-Null Count  Dtype \n",
      "---  ------           --------------  ----- \n",
      " 0   title            105 non-null    object\n",
      " 1   content          105 non-null    object\n",
      " 2   language         105 non-null    object\n",
      " 3   text_cleaned     105 non-null    object\n",
      " 4   text_tokenized   105 non-null    object\n",
      " 5   text_lemmatized  105 non-null    object\n",
      " 6   text_filtered    105 non-null    object\n",
      " 7   words            105 non-null    object\n",
      " 8   doc_length       105 non-null    int64 \n",
      "dtypes: int64(1), object(8)\n",
      "memory usage: 8.2+ KB\n"
     ]
    }
   ],
   "source": [
    "df.info()"
   ]
  },
  {
   "cell_type": "code",
   "execution_count": 23,
   "metadata": {},
   "outputs": [
    {
     "data": {
      "text/plain": [
       "javascript     58\n",
       "python         47\n",
       "Name: language, dtype: int64"
      ]
     },
     "execution_count": 23,
     "metadata": {},
     "output_type": "execute_result"
    }
   ],
   "source": [
    "df.language.value_counts()"
   ]
  },
  {
   "cell_type": "code",
   "execution_count": null,
   "metadata": {},
   "outputs": [],
   "source": []
  },
  {
   "cell_type": "code",
   "execution_count": 3,
   "metadata": {},
   "outputs": [],
   "source": []
  },
  {
   "cell_type": "code",
   "execution_count": null,
   "metadata": {},
   "outputs": [],
   "source": [
    "    "
   ]
  },
  {
   "cell_type": "code",
   "execution_count": 4,
   "metadata": {},
   "outputs": [],
   "source": [
    "\n"
   ]
  },
  {
   "cell_type": "code",
   "execution_count": 5,
   "metadata": {},
   "outputs": [],
   "source": []
  },
  {
   "cell_type": "code",
   "execution_count": null,
   "metadata": {},
   "outputs": [],
   "source": []
  },
  {
   "cell_type": "code",
   "execution_count": 6,
   "metadata": {},
   "outputs": [],
   "source": []
  },
  {
   "cell_type": "code",
   "execution_count": null,
   "metadata": {},
   "outputs": [],
   "source": []
  }
 ],
 "metadata": {
  "kernelspec": {
   "display_name": "Python 3",
   "language": "python",
   "name": "python3"
  },
  "language_info": {
   "codemirror_mode": {
    "name": "ipython",
    "version": 3
   },
   "file_extension": ".py",
   "mimetype": "text/x-python",
   "name": "python",
   "nbconvert_exporter": "python",
   "pygments_lexer": "ipython3",
   "version": "3.8.5"
  }
 },
 "nbformat": 4,
 "nbformat_minor": 4
}
