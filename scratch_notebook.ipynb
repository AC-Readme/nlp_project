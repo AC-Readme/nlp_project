{
 "cells": [
  {
   "cell_type": "code",
   "execution_count": 1,
   "metadata": {},
   "outputs": [],
   "source": [
    "import numpy as np\n",
    "import pandas as pd\n",
    "import matplotlib.pyplot as plt\n",
    "import seaborn as sns\n",
    "import unicodedata\n",
    "import re\n",
    "import requests\n",
    "from bs4 import BeautifulSoup\n",
    "\n",
    "import nltk\n",
    "from nltk.tokenize.toktok import ToktokTokenizer\n",
    "from nltk.corpus import stopwords\n",
    "\n",
    "import os.path\n",
    "from os import path\n",
    "import acquire"
   ]
  },
  {
   "cell_type": "code",
   "execution_count": 7,
   "metadata": {},
   "outputs": [],
   "source": [
    "def get_repos(url):\n",
    "    #codeup user agent\n",
    "    headers = {'User-Agent': 'Codeup Data Science'}\n",
    "\n",
    "    #url\n",
    "    response = requests.get(url, headers=headers)\n",
    "\n",
    "    # using beautiful soup\n",
    "    soup = BeautifulSoup(response.content, 'html.parser')\n",
    "\n",
    "    # get link to url\n",
    "    items = soup.find_all('a', class_='v-align-middle')\n",
    "\n",
    "    # empty list\n",
    "    repos = []\n",
    "\n",
    "    # getting links from page and appending\n",
    "    for item in items:\n",
    "        repos.append(item.get('href'))\n",
    "        #repos.append(item)\n",
    "    \n",
    "    #adding github to href\n",
    "    repos = ['github.com' + repo for repo in repos]\n",
    "\n",
    "    return repos\n"
   ]
  },
  {
   "cell_type": "code",
   "execution_count": 8,
   "metadata": {},
   "outputs": [],
   "source": [
    "url0 = get_repos('https://github.com/search?o=desc&p=1&q=repo&s=stars&type=Repositories')\n",
    "url2 = get_repos('https://github.com/search?o=desc&p=2&q=repo&s=stars&type=Repositories')\n",
    "url3 = get_repos('https://github.com/search?o=desc&p=3&q=repo&s=stars&type=Repositories')\n",
    "url4 = get_repos('https://github.com/search?o=desc&p=4&q=repo&s=stars&type=Repositories')\n",
    "url5 = get_repos('https://github.com/search?o=desc&p=5&q=repo&s=stars&type=Repositories')\n",
    "url6 = get_repos('https://github.com/search?o=desc&p=6&q=repo&s=stars&type=Repositories')\n",
    "url7 = get_repos('https://github.com/search?o=desc&p=7&q=repo&s=stars&type=Repositories')\n",
    "url8 = get_repos('https://github.com/search?o=desc&p=8&q=repo&s=stars&type=Repositories')\n",
    "url9 = get_repos('https://github.com/search?o=desc&p=9&q=repo&s=stars&type=Repositories')\n",
    "url10 = get_repos('https://github.com/search?o=desc&p=10&q=repo&s=stars&type=Repositories')\n",
    "url11 = get_repos('https://github.com/search?o=desc&p=11&q=repo&s=stars&type=Repositories')\n"
   ]
  },
  {
   "cell_type": "code",
   "execution_count": 9,
   "metadata": {},
   "outputs": [
    {
     "data": {
      "text/plain": [
       "['github.com/996icu/996.ICU',\n",
       " 'github.com/vuejs/vue-next',\n",
       " 'github.com/dotnet/corefx',\n",
       " 'github.com/ipython/ipython',\n",
       " 'github.com/tj/git-extras',\n",
       " 'github.com/microsoft/dotnet',\n",
       " 'github.com/sinatra/sinatra',\n",
       " 'github.com/h5bp/Effeckt.css',\n",
       " 'github.com/octocat/Spoon-Knife',\n",
       " 'github.com/donnemartin/awesome-aws',\n",
       " 'github.com/rtyley/bfg-repo-cleaner',\n",
       " 'github.com/zricethezav/gitleaks',\n",
       " 'github.com/frida/frida',\n",
       " 'github.com/dotnet/csharplang',\n",
       " 'github.com/Famous/famous',\n",
       " 'github.com/linkerd/linkerd2',\n",
       " 'github.com/CocoaPods/Specs',\n",
       " 'github.com/este/este',\n",
       " 'github.com/linkerd/linkerd',\n",
       " 'github.com/kevana/ui-for-docker',\n",
       " 'github.com/GoogleChrome/samples',\n",
       " 'github.com/microsoft/TypeScript-Handbook',\n",
       " 'github.com/onmyway133/awesome-ios-animation',\n",
       " 'github.com/airbnb/knowledge-repo',\n",
       " 'github.com/ZheC/Realtime_Multi-Person_Pose_Estimation',\n",
       " 'github.com/dspinellis/unix-history-repo',\n",
       " 'github.com/google/git-appraise',\n",
       " 'github.com/spro/practical-pytorch',\n",
       " 'github.com/microsoft/Windows-driver-samples',\n",
       " 'github.com/addyosmani/essential-js-design-patterns',\n",
       " 'github.com/juliocesarfort/public-pentesting-reports',\n",
       " 'github.com/hanc00l/wooyun_public',\n",
       " 'github.com/lua/lua',\n",
       " 'github.com/moq/moq4',\n",
       " 'github.com/andersao/l5-repository',\n",
       " 'github.com/udacity/deep-learning',\n",
       " 'github.com/youtube/api-samples',\n",
       " 'github.com/babel/babel-preset-env',\n",
       " 'github.com/yarrick/iodine',\n",
       " 'github.com/rkern/line_profiler',\n",
       " 'github.com/udacity/deep-reinforcement-learning',\n",
       " 'github.com/s3tools/s3cmd',\n",
       " 'github.com/microsoft/DirectX-Graphics-Samples',\n",
       " 'github.com/zzzeek/sqlalchemy',\n",
       " 'github.com/mdn/learning-area',\n",
       " 'github.com/FilledStacks/flutter-tutorials',\n",
       " 'github.com/awsdocs/aws-doc-sdk-examples',\n",
       " 'github.com/dotnet/standard',\n",
       " 'github.com/NELSONZHAO/zhihu',\n",
       " 'github.com/thunil/TecoGAN',\n",
       " 'github.com/docker/docker.github.io',\n",
       " 'github.com/stephanenicolas/robospice',\n",
       " 'github.com/rfordatascience/tidytuesday',\n",
       " 'github.com/l1ving/youtube-dl',\n",
       " 'github.com/munificent/game-programming-patterns',\n",
       " 'github.com/googlesamples/android-vision',\n",
       " 'github.com/dotnet/corert',\n",
       " 'github.com/first20hours/google-10000-english',\n",
       " 'github.com/mdo/github-buttons',\n",
       " 'github.com/StephenGrider/ReactNativeReduxCasts',\n",
       " 'github.com/quil/quil',\n",
       " 'github.com/composer/satis',\n",
       " 'github.com/eclipse/openj9',\n",
       " 'github.com/SmartisanTech/android',\n",
       " 'github.com/apollographql/apollo',\n",
       " 'github.com/wandb/client',\n",
       " 'github.com/zserge/jsmn',\n",
       " 'github.com/microsoft/Windows-classic-samples',\n",
       " 'github.com/RasaHQ/rasa_core',\n",
       " 'github.com/kubernetes/website',\n",
       " 'github.com/angular-ui/angular-ui-OLDREPO',\n",
       " 'github.com/dwyl/repo-badges',\n",
       " 'github.com/melpa/melpa',\n",
       " 'github.com/mre/idiomatic-rust',\n",
       " 'github.com/espruino/Espruino',\n",
       " 'github.com/vitalets/github-trending-repos',\n",
       " 'github.com/urwid/urwid',\n",
       " 'github.com/facebook/Surround360',\n",
       " 'github.com/timqian/star-history',\n",
       " 'github.com/torproject/tor',\n",
       " 'github.com/angular-ui/angular-ui-OLDREPO',\n",
       " 'github.com/dwyl/repo-badges',\n",
       " 'github.com/melpa/melpa',\n",
       " 'github.com/mre/idiomatic-rust',\n",
       " 'github.com/espruino/Espruino',\n",
       " 'github.com/vitalets/github-trending-repos',\n",
       " 'github.com/urwid/urwid',\n",
       " 'github.com/facebook/Surround360',\n",
       " 'github.com/timqian/star-history',\n",
       " 'github.com/torproject/tor']"
      ]
     },
     "execution_count": 9,
     "metadata": {},
     "output_type": "execute_result"
    }
   ],
   "source": [
    "urls = url0+url2+url3+url4+url5+url6+url7+url8+url8+url10+url11\n",
    "urls"
   ]
  },
  {
   "cell_type": "code",
   "execution_count": 5,
   "metadata": {},
   "outputs": [
    {
     "data": {
      "text/plain": [
       "[]"
      ]
     },
     "execution_count": 5,
     "metadata": {},
     "output_type": "execute_result"
    }
   ],
   "source": []
  },
  {
   "cell_type": "code",
   "execution_count": null,
   "metadata": {},
   "outputs": [],
   "source": []
  }
 ],
 "metadata": {
  "kernelspec": {
   "display_name": "Python 3",
   "language": "python",
   "name": "python3"
  },
  "language_info": {
   "codemirror_mode": {
    "name": "ipython",
    "version": 3
   },
   "file_extension": ".py",
   "mimetype": "text/x-python",
   "name": "python",
   "nbconvert_exporter": "python",
   "pygments_lexer": "ipython3",
   "version": "3.7.6"
  }
 },
 "nbformat": 4,
 "nbformat_minor": 4
}
